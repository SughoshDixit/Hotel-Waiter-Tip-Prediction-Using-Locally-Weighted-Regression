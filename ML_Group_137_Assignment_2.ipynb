{
  "cells": [
    {
      "cell_type": "markdown",
      "metadata": {
        "id": "view-in-github",
        "colab_type": "text"
      },
      "source": [
        "<a href=\"https://colab.research.google.com/github/SughoshDixit/Hotel-Waiter-Tip-Prediction-Using-Locally-Weighted-Regression/blob/main/ML_Group_137_Assignment_2.ipynb\" target=\"_parent\"><img src=\"https://colab.research.google.com/assets/colab-badge.svg\" alt=\"Open In Colab\"/></a>"
      ]
    },
    {
      "cell_type": "markdown",
      "id": "0f241e67",
      "metadata": {
        "id": "0f241e67"
      },
      "source": [
        "<h1 style=\"font-family:verdana;\"> <center>📚 Machine Learning Assignment - 2 Group 137📚</center> </h1>\n",
        "<p><center style=\"color:#159364; font-family:cursive;\">Tip Prediction</center></p>\n",
        "<p><center style=\"color:#159364; font-family:cursive;\">\n",
        " <table>\n",
        "  <tr>\n",
        "    <th>Name</th>\n",
        "    <th>Student No</th>\n",
        "  </tr>\n",
        "  <tr>\n",
        "    <td>Sughosh P Dixit</td>\n",
        "    <td>2021FA04058</td>\n",
        "  </tr>\n",
        "</table> \n",
        "</p>\n",
        "***\n",
        "\n",
        "**Dataset:**\n",
        "Predict the tip amount given some parameters. "
      ]
    },
    {
      "cell_type": "markdown",
      "id": "a64e2265",
      "metadata": {
        "id": "a64e2265"
      },
      "source": [
        "![Stay Home](https://cdn.dribbble.com/users/1740938/screenshots/8110971/media/0e0a82253a939fa9b629727109a1cb2b.jpg)\n",
        "<cite>Image from www.dribbble.com by Aditya Shrivastava</cite>"
      ]
    },
    {
      "cell_type": "markdown",
      "id": "2f500a9e",
      "metadata": {
        "id": "2f500a9e"
      },
      "source": [
        "<div style=\"font-family:verdana; word-spacing:1.5px; color:orange\">\n",
        "    <h1> Part A <br></h1?\n",
        "    <h2 id=\"emoji\">\n",
        "        1 Import Libraries/Dataset\n",
        "        <br>\n",
        "    </h2>\n",
        "    <p style=\"line-height:1.7em; color:orange;\">\n",
        "    <ol>\n",
        "        <li>\n",
        "            <b>Download the dataset</b>\n",
        "        </li>\n",
        "        <li>\n",
        "            <b>Import the required datasets</b>\n",
        "        </li>\n",
        "    </ol>\n",
        "</div>"
      ]
    },
    {
      "cell_type": "code",
      "execution_count": null,
      "id": "6e5d8114",
      "metadata": {
        "id": "6e5d8114"
      },
      "outputs": [],
      "source": [
        "# The aim of this analysis is to predict tips given set of parameters\n",
        "# Libraries are loaded first\n",
        "import numpy as np\n",
        "import pandas as pd\n",
        "import matplotlib.pyplot as plt\n",
        "import seaborn as sns\n",
        "from sklearn.model_selection import train_test_split\n",
        "from sklearn.linear_model import LinearRegression\n",
        "from sklearn.metrics import r2_score, mean_absolute_error, mean_squared_error\n",
        "import warnings\n",
        "warnings.filterwarnings('ignore')\n",
        "\n",
        "df = pd.read_csv('/content/tip.csv')"
      ]
    },
    {
      "cell_type": "markdown",
      "id": "1c12dd4d",
      "metadata": {
        "id": "1c12dd4d"
      },
      "source": [
        "<div style=\"font-family:verdana; word-spacing:1.5px;\">\n",
        "    <h1 id=\"emoji\">\n",
        "        2 Data Visualization and Exploration\n",
        "        <br>\n",
        "    </h1>\n",
        "    <p style=\"line-height:1.7em;\">\n",
        "    <ol>\n",
        "        <li>\n",
        "            <b>Print 5 rows for sanity check to identify all the features present in the dataset and if the target matches with them.</b>\n",
        "        </li>\n",
        "        <li>\n",
        "            <b>Print the description and Basic statistical details.</b>\n",
        "        </li>\n",
        "        <li>\n",
        "            <b>Try exploring the data and see what insights can be drawn from the dataset.</b>\n",
        "        </li>\n",
        "    </ol>\n",
        "</div>"
      ]
    },
    {
      "cell_type": "code",
      "execution_count": null,
      "id": "57b9e335",
      "metadata": {
        "id": "57b9e335",
        "outputId": "116098c1-f977-4b37-933c-ffad95ae8d9f",
        "colab": {
          "base_uri": "https://localhost:8080/",
          "height": 206
        }
      },
      "outputs": [
        {
          "output_type": "execute_result",
          "data": {
            "text/plain": [
              "   total_bill   tip     sex smoker  day    time  size\n",
              "0       16.99  1.01  Female     No  Sun  Dinner     2\n",
              "1       10.34  1.66    Male     No  Sun  Dinner     3\n",
              "2       21.01  3.50    Male     No  Sun  Dinner     3\n",
              "3       23.68  3.31    Male     No  Sun  Dinner     2\n",
              "4       24.59  3.61  Female     No  Sun  Dinner     4"
            ],
            "text/html": [
              "\n",
              "  <div id=\"df-77a35c0c-4f8e-4139-b4e0-859de7287b13\">\n",
              "    <div class=\"colab-df-container\">\n",
              "      <div>\n",
              "<style scoped>\n",
              "    .dataframe tbody tr th:only-of-type {\n",
              "        vertical-align: middle;\n",
              "    }\n",
              "\n",
              "    .dataframe tbody tr th {\n",
              "        vertical-align: top;\n",
              "    }\n",
              "\n",
              "    .dataframe thead th {\n",
              "        text-align: right;\n",
              "    }\n",
              "</style>\n",
              "<table border=\"1\" class=\"dataframe\">\n",
              "  <thead>\n",
              "    <tr style=\"text-align: right;\">\n",
              "      <th></th>\n",
              "      <th>total_bill</th>\n",
              "      <th>tip</th>\n",
              "      <th>sex</th>\n",
              "      <th>smoker</th>\n",
              "      <th>day</th>\n",
              "      <th>time</th>\n",
              "      <th>size</th>\n",
              "    </tr>\n",
              "  </thead>\n",
              "  <tbody>\n",
              "    <tr>\n",
              "      <th>0</th>\n",
              "      <td>16.99</td>\n",
              "      <td>1.01</td>\n",
              "      <td>Female</td>\n",
              "      <td>No</td>\n",
              "      <td>Sun</td>\n",
              "      <td>Dinner</td>\n",
              "      <td>2</td>\n",
              "    </tr>\n",
              "    <tr>\n",
              "      <th>1</th>\n",
              "      <td>10.34</td>\n",
              "      <td>1.66</td>\n",
              "      <td>Male</td>\n",
              "      <td>No</td>\n",
              "      <td>Sun</td>\n",
              "      <td>Dinner</td>\n",
              "      <td>3</td>\n",
              "    </tr>\n",
              "    <tr>\n",
              "      <th>2</th>\n",
              "      <td>21.01</td>\n",
              "      <td>3.50</td>\n",
              "      <td>Male</td>\n",
              "      <td>No</td>\n",
              "      <td>Sun</td>\n",
              "      <td>Dinner</td>\n",
              "      <td>3</td>\n",
              "    </tr>\n",
              "    <tr>\n",
              "      <th>3</th>\n",
              "      <td>23.68</td>\n",
              "      <td>3.31</td>\n",
              "      <td>Male</td>\n",
              "      <td>No</td>\n",
              "      <td>Sun</td>\n",
              "      <td>Dinner</td>\n",
              "      <td>2</td>\n",
              "    </tr>\n",
              "    <tr>\n",
              "      <th>4</th>\n",
              "      <td>24.59</td>\n",
              "      <td>3.61</td>\n",
              "      <td>Female</td>\n",
              "      <td>No</td>\n",
              "      <td>Sun</td>\n",
              "      <td>Dinner</td>\n",
              "      <td>4</td>\n",
              "    </tr>\n",
              "  </tbody>\n",
              "</table>\n",
              "</div>\n",
              "      <button class=\"colab-df-convert\" onclick=\"convertToInteractive('df-77a35c0c-4f8e-4139-b4e0-859de7287b13')\"\n",
              "              title=\"Convert this dataframe to an interactive table.\"\n",
              "              style=\"display:none;\">\n",
              "        \n",
              "  <svg xmlns=\"http://www.w3.org/2000/svg\" height=\"24px\"viewBox=\"0 0 24 24\"\n",
              "       width=\"24px\">\n",
              "    <path d=\"M0 0h24v24H0V0z\" fill=\"none\"/>\n",
              "    <path d=\"M18.56 5.44l.94 2.06.94-2.06 2.06-.94-2.06-.94-.94-2.06-.94 2.06-2.06.94zm-11 1L8.5 8.5l.94-2.06 2.06-.94-2.06-.94L8.5 2.5l-.94 2.06-2.06.94zm10 10l.94 2.06.94-2.06 2.06-.94-2.06-.94-.94-2.06-.94 2.06-2.06.94z\"/><path d=\"M17.41 7.96l-1.37-1.37c-.4-.4-.92-.59-1.43-.59-.52 0-1.04.2-1.43.59L10.3 9.45l-7.72 7.72c-.78.78-.78 2.05 0 2.83L4 21.41c.39.39.9.59 1.41.59.51 0 1.02-.2 1.41-.59l7.78-7.78 2.81-2.81c.8-.78.8-2.07 0-2.86zM5.41 20L4 18.59l7.72-7.72 1.47 1.35L5.41 20z\"/>\n",
              "  </svg>\n",
              "      </button>\n",
              "      \n",
              "  <style>\n",
              "    .colab-df-container {\n",
              "      display:flex;\n",
              "      flex-wrap:wrap;\n",
              "      gap: 12px;\n",
              "    }\n",
              "\n",
              "    .colab-df-convert {\n",
              "      background-color: #E8F0FE;\n",
              "      border: none;\n",
              "      border-radius: 50%;\n",
              "      cursor: pointer;\n",
              "      display: none;\n",
              "      fill: #1967D2;\n",
              "      height: 32px;\n",
              "      padding: 0 0 0 0;\n",
              "      width: 32px;\n",
              "    }\n",
              "\n",
              "    .colab-df-convert:hover {\n",
              "      background-color: #E2EBFA;\n",
              "      box-shadow: 0px 1px 2px rgba(60, 64, 67, 0.3), 0px 1px 3px 1px rgba(60, 64, 67, 0.15);\n",
              "      fill: #174EA6;\n",
              "    }\n",
              "\n",
              "    [theme=dark] .colab-df-convert {\n",
              "      background-color: #3B4455;\n",
              "      fill: #D2E3FC;\n",
              "    }\n",
              "\n",
              "    [theme=dark] .colab-df-convert:hover {\n",
              "      background-color: #434B5C;\n",
              "      box-shadow: 0px 1px 3px 1px rgba(0, 0, 0, 0.15);\n",
              "      filter: drop-shadow(0px 1px 2px rgba(0, 0, 0, 0.3));\n",
              "      fill: #FFFFFF;\n",
              "    }\n",
              "  </style>\n",
              "\n",
              "      <script>\n",
              "        const buttonEl =\n",
              "          document.querySelector('#df-77a35c0c-4f8e-4139-b4e0-859de7287b13 button.colab-df-convert');\n",
              "        buttonEl.style.display =\n",
              "          google.colab.kernel.accessAllowed ? 'block' : 'none';\n",
              "\n",
              "        async function convertToInteractive(key) {\n",
              "          const element = document.querySelector('#df-77a35c0c-4f8e-4139-b4e0-859de7287b13');\n",
              "          const dataTable =\n",
              "            await google.colab.kernel.invokeFunction('convertToInteractive',\n",
              "                                                     [key], {});\n",
              "          if (!dataTable) return;\n",
              "\n",
              "          const docLinkHtml = 'Like what you see? Visit the ' +\n",
              "            '<a target=\"_blank\" href=https://colab.research.google.com/notebooks/data_table.ipynb>data table notebook</a>'\n",
              "            + ' to learn more about interactive tables.';\n",
              "          element.innerHTML = '';\n",
              "          dataTable['output_type'] = 'display_data';\n",
              "          await google.colab.output.renderOutput(dataTable, element);\n",
              "          const docLink = document.createElement('div');\n",
              "          docLink.innerHTML = docLinkHtml;\n",
              "          element.appendChild(docLink);\n",
              "        }\n",
              "      </script>\n",
              "    </div>\n",
              "  </div>\n",
              "  "
            ]
          },
          "metadata": {},
          "execution_count": 2
        }
      ],
      "source": [
        "df.head(5)"
      ]
    },
    {
      "cell_type": "code",
      "execution_count": null,
      "id": "94adf020",
      "metadata": {
        "id": "94adf020",
        "colab": {
          "base_uri": "https://localhost:8080/"
        },
        "outputId": "74e96ee7-1aff-43a9-a50a-bc11ccbb03ec"
      },
      "outputs": [
        {
          "output_type": "stream",
          "name": "stdout",
          "text": [
            "<class 'pandas.core.frame.DataFrame'>\n",
            "RangeIndex: 244 entries, 0 to 243\n",
            "Data columns (total 7 columns):\n",
            " #   Column      Non-Null Count  Dtype  \n",
            "---  ------      --------------  -----  \n",
            " 0   total_bill  244 non-null    float64\n",
            " 1   tip         244 non-null    float64\n",
            " 2   sex         244 non-null    object \n",
            " 3   smoker      244 non-null    object \n",
            " 4   day         244 non-null    object \n",
            " 5   time        244 non-null    object \n",
            " 6   size        244 non-null    int64  \n",
            "dtypes: float64(2), int64(1), object(4)\n",
            "memory usage: 13.5+ KB\n"
          ]
        }
      ],
      "source": [
        "df.info()"
      ]
    },
    {
      "cell_type": "code",
      "execution_count": null,
      "id": "a9e47247",
      "metadata": {
        "id": "a9e47247",
        "colab": {
          "base_uri": "https://localhost:8080/",
          "height": 300
        },
        "outputId": "3d4667f6-81cf-4e06-c50f-a66b1b70ba6e"
      },
      "outputs": [
        {
          "output_type": "execute_result",
          "data": {
            "text/plain": [
              "       total_bill         tip        size\n",
              "count  244.000000  244.000000  244.000000\n",
              "mean    19.785943    2.998279    2.569672\n",
              "std      8.902412    1.383638    0.951100\n",
              "min      3.070000    1.000000    1.000000\n",
              "25%     13.347500    2.000000    2.000000\n",
              "50%     17.795000    2.900000    2.000000\n",
              "75%     24.127500    3.562500    3.000000\n",
              "max     50.810000   10.000000    6.000000"
            ],
            "text/html": [
              "\n",
              "  <div id=\"df-c7a552dd-38de-4a03-81c8-7b72e1984817\">\n",
              "    <div class=\"colab-df-container\">\n",
              "      <div>\n",
              "<style scoped>\n",
              "    .dataframe tbody tr th:only-of-type {\n",
              "        vertical-align: middle;\n",
              "    }\n",
              "\n",
              "    .dataframe tbody tr th {\n",
              "        vertical-align: top;\n",
              "    }\n",
              "\n",
              "    .dataframe thead th {\n",
              "        text-align: right;\n",
              "    }\n",
              "</style>\n",
              "<table border=\"1\" class=\"dataframe\">\n",
              "  <thead>\n",
              "    <tr style=\"text-align: right;\">\n",
              "      <th></th>\n",
              "      <th>total_bill</th>\n",
              "      <th>tip</th>\n",
              "      <th>size</th>\n",
              "    </tr>\n",
              "  </thead>\n",
              "  <tbody>\n",
              "    <tr>\n",
              "      <th>count</th>\n",
              "      <td>244.000000</td>\n",
              "      <td>244.000000</td>\n",
              "      <td>244.000000</td>\n",
              "    </tr>\n",
              "    <tr>\n",
              "      <th>mean</th>\n",
              "      <td>19.785943</td>\n",
              "      <td>2.998279</td>\n",
              "      <td>2.569672</td>\n",
              "    </tr>\n",
              "    <tr>\n",
              "      <th>std</th>\n",
              "      <td>8.902412</td>\n",
              "      <td>1.383638</td>\n",
              "      <td>0.951100</td>\n",
              "    </tr>\n",
              "    <tr>\n",
              "      <th>min</th>\n",
              "      <td>3.070000</td>\n",
              "      <td>1.000000</td>\n",
              "      <td>1.000000</td>\n",
              "    </tr>\n",
              "    <tr>\n",
              "      <th>25%</th>\n",
              "      <td>13.347500</td>\n",
              "      <td>2.000000</td>\n",
              "      <td>2.000000</td>\n",
              "    </tr>\n",
              "    <tr>\n",
              "      <th>50%</th>\n",
              "      <td>17.795000</td>\n",
              "      <td>2.900000</td>\n",
              "      <td>2.000000</td>\n",
              "    </tr>\n",
              "    <tr>\n",
              "      <th>75%</th>\n",
              "      <td>24.127500</td>\n",
              "      <td>3.562500</td>\n",
              "      <td>3.000000</td>\n",
              "    </tr>\n",
              "    <tr>\n",
              "      <th>max</th>\n",
              "      <td>50.810000</td>\n",
              "      <td>10.000000</td>\n",
              "      <td>6.000000</td>\n",
              "    </tr>\n",
              "  </tbody>\n",
              "</table>\n",
              "</div>\n",
              "      <button class=\"colab-df-convert\" onclick=\"convertToInteractive('df-c7a552dd-38de-4a03-81c8-7b72e1984817')\"\n",
              "              title=\"Convert this dataframe to an interactive table.\"\n",
              "              style=\"display:none;\">\n",
              "        \n",
              "  <svg xmlns=\"http://www.w3.org/2000/svg\" height=\"24px\"viewBox=\"0 0 24 24\"\n",
              "       width=\"24px\">\n",
              "    <path d=\"M0 0h24v24H0V0z\" fill=\"none\"/>\n",
              "    <path d=\"M18.56 5.44l.94 2.06.94-2.06 2.06-.94-2.06-.94-.94-2.06-.94 2.06-2.06.94zm-11 1L8.5 8.5l.94-2.06 2.06-.94-2.06-.94L8.5 2.5l-.94 2.06-2.06.94zm10 10l.94 2.06.94-2.06 2.06-.94-2.06-.94-.94-2.06-.94 2.06-2.06.94z\"/><path d=\"M17.41 7.96l-1.37-1.37c-.4-.4-.92-.59-1.43-.59-.52 0-1.04.2-1.43.59L10.3 9.45l-7.72 7.72c-.78.78-.78 2.05 0 2.83L4 21.41c.39.39.9.59 1.41.59.51 0 1.02-.2 1.41-.59l7.78-7.78 2.81-2.81c.8-.78.8-2.07 0-2.86zM5.41 20L4 18.59l7.72-7.72 1.47 1.35L5.41 20z\"/>\n",
              "  </svg>\n",
              "      </button>\n",
              "      \n",
              "  <style>\n",
              "    .colab-df-container {\n",
              "      display:flex;\n",
              "      flex-wrap:wrap;\n",
              "      gap: 12px;\n",
              "    }\n",
              "\n",
              "    .colab-df-convert {\n",
              "      background-color: #E8F0FE;\n",
              "      border: none;\n",
              "      border-radius: 50%;\n",
              "      cursor: pointer;\n",
              "      display: none;\n",
              "      fill: #1967D2;\n",
              "      height: 32px;\n",
              "      padding: 0 0 0 0;\n",
              "      width: 32px;\n",
              "    }\n",
              "\n",
              "    .colab-df-convert:hover {\n",
              "      background-color: #E2EBFA;\n",
              "      box-shadow: 0px 1px 2px rgba(60, 64, 67, 0.3), 0px 1px 3px 1px rgba(60, 64, 67, 0.15);\n",
              "      fill: #174EA6;\n",
              "    }\n",
              "\n",
              "    [theme=dark] .colab-df-convert {\n",
              "      background-color: #3B4455;\n",
              "      fill: #D2E3FC;\n",
              "    }\n",
              "\n",
              "    [theme=dark] .colab-df-convert:hover {\n",
              "      background-color: #434B5C;\n",
              "      box-shadow: 0px 1px 3px 1px rgba(0, 0, 0, 0.15);\n",
              "      filter: drop-shadow(0px 1px 2px rgba(0, 0, 0, 0.3));\n",
              "      fill: #FFFFFF;\n",
              "    }\n",
              "  </style>\n",
              "\n",
              "      <script>\n",
              "        const buttonEl =\n",
              "          document.querySelector('#df-c7a552dd-38de-4a03-81c8-7b72e1984817 button.colab-df-convert');\n",
              "        buttonEl.style.display =\n",
              "          google.colab.kernel.accessAllowed ? 'block' : 'none';\n",
              "\n",
              "        async function convertToInteractive(key) {\n",
              "          const element = document.querySelector('#df-c7a552dd-38de-4a03-81c8-7b72e1984817');\n",
              "          const dataTable =\n",
              "            await google.colab.kernel.invokeFunction('convertToInteractive',\n",
              "                                                     [key], {});\n",
              "          if (!dataTable) return;\n",
              "\n",
              "          const docLinkHtml = 'Like what you see? Visit the ' +\n",
              "            '<a target=\"_blank\" href=https://colab.research.google.com/notebooks/data_table.ipynb>data table notebook</a>'\n",
              "            + ' to learn more about interactive tables.';\n",
              "          element.innerHTML = '';\n",
              "          dataTable['output_type'] = 'display_data';\n",
              "          await google.colab.output.renderOutput(dataTable, element);\n",
              "          const docLink = document.createElement('div');\n",
              "          docLink.innerHTML = docLinkHtml;\n",
              "          element.appendChild(docLink);\n",
              "        }\n",
              "      </script>\n",
              "    </div>\n",
              "  </div>\n",
              "  "
            ]
          },
          "metadata": {},
          "execution_count": 4
        }
      ],
      "source": [
        "df.describe()"
      ]
    },
    {
      "cell_type": "markdown",
      "id": "ea7e5feb",
      "metadata": {
        "id": "ea7e5feb"
      },
      "source": [
        "<div style=\"font-family:verdana; word-spacing:1.5px;\">\n",
        "    <h1 id=\"emoji\">\n",
        "        Insights\n",
        "        <br>\n",
        "    </h1>\n",
        "</div>\n",
        "\n",
        "![Stay Home](https://cdn.dribbble.com/users/33046/screenshots/13822141/media/ac015f099f6afbbe042e067811e68c5b.png)\n",
        "<cite>Image from www.dribbble.com by  Cleo Sonski</cite>"
      ]
    },
    {
      "cell_type": "markdown",
      "id": "c1de7741",
      "metadata": {
        "id": "c1de7741"
      },
      "source": [
        "<div style=\"font-family:verdana; word-spacing:1.5px;\">\n",
        "    <h3 id=\"emoji\">\n",
        "        Data Distribution using Pie Chart\n",
        "        <br>\n",
        "    </h3>\n",
        "</div>"
      ]
    },
    {
      "cell_type": "code",
      "execution_count": null,
      "id": "0716584d",
      "metadata": {
        "id": "0716584d",
        "colab": {
          "base_uri": "https://localhost:8080/",
          "height": 552
        },
        "outputId": "ee5bd78a-c14d-4a06-ba76-82eda5f47143"
      },
      "outputs": [
        {
          "output_type": "display_data",
          "data": {
            "text/plain": [
              "<Figure size 1080x504 with 1 Axes>"
            ],
            "image/png": "[encoded data removed]"
          },
          "metadata": {}
        },
        {
          "output_type": "stream",
          "name": "stdout",
          "text": [
            "Number of bills in dataset\n",
            " 10-20    130\n",
            "20-30     65\n",
            "30-40     22\n",
            "0-10      17\n",
            "40-50      9\n",
            "Name: bins, dtype: int64\n"
          ]
        }
      ],
      "source": [
        "#Total Bill Data Distribution\n",
        "df['bins'] = pd.cut(df['total_bill'],bins=[0,10,20,30,40,50], labels=[\"0-10\",\"10-20\",\"20-30\",\"30-40\",\"40-50\"])\n",
        "count = df['bins'].value_counts()\n",
        "_per_counts_bill = df['bins'].value_counts() / len(df.index) * 100\n",
        "labs = _per_counts_bill.index.tolist()\n",
        "f, ax = plt.subplots(1, 1, figsize = (15, 7))\n",
        "plt.pie(_per_counts_bill, labels = labs, autopct = \"%.2f%%\",shadow=True )\n",
        "plt.title('Total Bill Data Distribution')\n",
        "plt.show()\n",
        "print('Number of bills in dataset\\n',count)"
      ]
    },
    {
      "cell_type": "code",
      "execution_count": null,
      "id": "67fe27e6",
      "metadata": {
        "id": "67fe27e6",
        "colab": {
          "base_uri": "https://localhost:8080/",
          "height": 552
        },
        "outputId": "9262398a-3c3e-4297-c7a7-4a0c1cb58173"
      },
      "outputs": [
        {
          "output_type": "display_data",
          "data": {
            "text/plain": [
              "<Figure size 1080x504 with 1 Axes>"
            ],
            "image/png": "[encoded data removed]"
          },
          "metadata": {}
        },
        {
          "output_type": "stream",
          "name": "stdout",
          "text": [
            "Count of tip range in dataset \n",
            " 2-4     125\n",
            "0-2      78\n",
            "4-6      34\n",
            "6-8       5\n",
            "8-10      2\n",
            "Name: bins, dtype: int64\n"
          ]
        }
      ],
      "source": [
        "#Tip Data Distribution\n",
        "df['bins'] = pd.cut(df['tip'],bins=[0,2,4,6,8,10], labels=[\"0-2\",\"2-4\",\"4-6\",\"6-8\",\"8-10\"])\n",
        "count = df['bins'].value_counts()\n",
        "_per_counts_tip = df['bins'].value_counts() / len(df.index) * 100\n",
        "labs = _per_counts_tip.index.tolist()\n",
        "f, ax = plt.subplots(1, 1, figsize = (15, 7))\n",
        "plt.pie(_per_counts_tip, labels = labs, autopct = \"%.2f%%\",shadow=True )\n",
        "plt.title('Total Tip Distribution')\n",
        "plt.show()\n",
        "print('Count of tip range in dataset \\n',count)"
      ]
    },
    {
      "cell_type": "code",
      "source": [
        "#Size Data Distribution\n",
        "df['bins'] = pd.cut(df['size'],bins=[0,1,2,3,4,5,6], labels=[\"1\",\"2\",\"3\",\"4\",\"5\",\"5+\"])\n",
        "count = df['bins'].value_counts()\n",
        "_per_counts_size = df['bins'].value_counts() / len(df.index) * 100\n",
        "labs = _per_counts_size.index.tolist()\n",
        "f, ax = plt.subplots(1, 1, figsize = (15, 7))\n",
        "plt.pie(_per_counts_size, labels = labs, autopct = \"%.2f%%\",shadow=True )\n",
        "plt.title('Total size Distribution')\n",
        "plt.show()\n",
        "print('Count of size in dataset \\n',count)"
      ],
      "metadata": {
        "id": "4V3VgtxGvq1o",
        "colab": {
          "base_uri": "https://localhost:8080/",
          "height": 570
        },
        "outputId": "e4496358-700a-48c7-8f01-4b4b89f36978"
      },
      "id": "4V3VgtxGvq1o",
      "execution_count": null,
      "outputs": [
        {
          "output_type": "display_data",
          "data": {
            "text/plain": [
              "<Figure size 1080x504 with 1 Axes>"
            ],
            "image/png": "[encoded data removed]"
          },
          "metadata": {}
        },
        {
          "output_type": "stream",
          "name": "stdout",
          "text": [
            "Count of size in dataset \n",
            " 2     156\n",
            "3      38\n",
            "4      37\n",
            "5       5\n",
            "1       4\n",
            "5+      4\n",
            "Name: bins, dtype: int64\n"
          ]
        }
      ]
    },
    {
      "cell_type": "code",
      "source": [
        "df = df.drop(columns='bins')"
      ],
      "metadata": {
        "id": "P_wjMPcPOHHP"
      },
      "id": "P_wjMPcPOHHP",
      "execution_count": null,
      "outputs": []
    },
    {
      "cell_type": "markdown",
      "source": [
        "<div style=\"font-family:verdana; word-spacing:1.5px;\">\n",
        "    <h3 id=\"emoji\">\n",
        "        Data Distribution using Bar Chart\n",
        "        <br>\n",
        "    </h3>\n",
        "</div>"
      ],
      "metadata": {
        "id": "avh7Y9oM5ZpG"
      },
      "id": "avh7Y9oM5ZpG"
    },
    {
      "cell_type": "code",
      "source": [
        "#Bar graph for sex data distribution\n",
        "\n",
        "df['sex'].value_counts().plot(kind='bar')\n",
        "\n",
        "plt.xlabel(\"Gender\")\n",
        "plt.ylabel(\"Count of People\")\n",
        "plt.title(\"Count of Male and Female customers\")"
      ],
      "metadata": {
        "id": "cjGfb8wd4zvn",
        "colab": {
          "base_uri": "https://localhost:8080/",
          "height": 339
        },
        "outputId": "91a0da5a-2e43-43b0-8f9b-e92be12f83c4"
      },
      "id": "cjGfb8wd4zvn",
      "execution_count": null,
      "outputs": [
        {
          "output_type": "execute_result",
          "data": {
            "text/plain": [
              "Text(0.5, 1.0, 'Count of Male and Female customers')"
            ]
          },
          "metadata": {},
          "execution_count": 9
        },
        {
          "output_type": "display_data",
          "data": {
            "text/plain": [
              "<Figure size 432x288 with 1 Axes>"
            ],
            "image/png": "[encoded data removed]"
          },
          "metadata": {
            "needs_background": "light"
          }
        }
      ]
    },
    {
      "cell_type": "code",
      "source": [
        "#Bar graph for sex data distribution\n",
        "\n",
        "df['smoker'].value_counts().plot(kind='bar')\n",
        "\n",
        "plt.xlabel(\"Smoker\")\n",
        "plt.ylabel(\"Count of People\")\n",
        "plt.title(\"Count of Smoking customers\")"
      ],
      "metadata": {
        "id": "ZgwxcaOg5dft",
        "colab": {
          "base_uri": "https://localhost:8080/",
          "height": 319
        },
        "outputId": "5a936e99-90a8-4503-c6e2-6fd9e3bdec40"
      },
      "id": "ZgwxcaOg5dft",
      "execution_count": null,
      "outputs": [
        {
          "output_type": "execute_result",
          "data": {
            "text/plain": [
              "Text(0.5, 1.0, 'Count of Smoking customers')"
            ]
          },
          "metadata": {},
          "execution_count": 10
        },
        {
          "output_type": "display_data",
          "data": {
            "text/plain": [
              "<Figure size 432x288 with 1 Axes>"
            ],
            "image/png": "[encoded data removed]"
          },
          "metadata": {
            "needs_background": "light"
          }
        }
      ]
    },
    {
      "cell_type": "markdown",
      "source": [
        "<div style=\"font-family:verdana; word-spacing:1.5px;\">\n",
        "    <h3 id=\"emoji\">\n",
        "        Scatter Plots to see relationship between variables\n",
        "        <br>\n",
        "    </h3>\n",
        "</div>"
      ],
      "metadata": {
        "id": "smDx0v1nXHcr"
      },
      "id": "smDx0v1nXHcr"
    },
    {
      "cell_type": "code",
      "source": [
        "import seaborn as sb\n",
        "sb.relplot(x=\"total_bill\", y=\"tip\", data= df)"
      ],
      "metadata": {
        "colab": {
          "base_uri": "https://localhost:8080/",
          "height": 388
        },
        "id": "mAOT7K4rYtAW",
        "outputId": "cd6e54e6-58dc-4489-b594-a1ecddd82eca"
      },
      "id": "mAOT7K4rYtAW",
      "execution_count": null,
      "outputs": [
        {
          "output_type": "execute_result",
          "data": {
            "text/plain": [
              "<seaborn.axisgrid.FacetGrid at 0x7f7319052f10>"
            ]
          },
          "metadata": {},
          "execution_count": 11
        },
        {
          "output_type": "display_data",
          "data": {
            "text/plain": [
              "<Figure size 360x360 with 1 Axes>"
            ],
            "image/png": "[encoded data removed]"
          },
          "metadata": {
            "needs_background": "light"
          }
        }
      ]
    },
    {
      "cell_type": "code",
      "source": [
        "sb.scatterplot(x=\"day\", y=\"total_bill\", data= df, hue = 'sex')"
      ],
      "metadata": {
        "id": "zI46HKb1ZwOH",
        "colab": {
          "base_uri": "https://localhost:8080/",
          "height": 297
        },
        "outputId": "e08074aa-4488-47f8-d4f2-c16633589cf7"
      },
      "id": "zI46HKb1ZwOH",
      "execution_count": null,
      "outputs": [
        {
          "output_type": "execute_result",
          "data": {
            "text/plain": [
              "<matplotlib.axes._subplots.AxesSubplot at 0x7f7318f441d0>"
            ]
          },
          "metadata": {},
          "execution_count": 12
        },
        {
          "output_type": "display_data",
          "data": {
            "text/plain": [
              "<Figure size 432x288 with 1 Axes>"
            ],
            "image/png": "[encoded data removed]"
          },
          "metadata": {
            "needs_background": "light"
          }
        }
      ]
    },
    {
      "cell_type": "code",
      "source": [
        "sb.scatterplot(x='total_bill', y='size', data=df.query('size > 2'))"
      ],
      "metadata": {
        "id": "4ppDCUeEZ8Ub",
        "colab": {
          "base_uri": "https://localhost:8080/",
          "height": 298
        },
        "outputId": "d32531c4-40a8-428c-cc59-a631e66a2219"
      },
      "id": "4ppDCUeEZ8Ub",
      "execution_count": null,
      "outputs": [
        {
          "output_type": "execute_result",
          "data": {
            "text/plain": [
              "<matplotlib.axes._subplots.AxesSubplot at 0x7f73166d75d0>"
            ]
          },
          "metadata": {},
          "execution_count": 13
        },
        {
          "output_type": "display_data",
          "data": {
            "text/plain": [
              "<Figure size 432x288 with 1 Axes>"
            ],
            "image/png": "[encoded data removed]"
          },
          "metadata": {
            "needs_background": "light"
          }
        }
      ]
    },
    {
      "cell_type": "code",
      "source": [
        " # A holistic visualization of the given dataset\n",
        "sns.relplot(\n",
        "    data=df,\n",
        "    x=\"total_bill\", y=\"tip\", col=\"time\",\n",
        "    hue=\"smoker\", style=\"smoker\", size=\"size\",\n",
        ")"
      ],
      "metadata": {
        "id": "YRUJ09RtxF-4",
        "colab": {
          "base_uri": "https://localhost:8080/",
          "height": 388
        },
        "outputId": "063a1518-ea78-4b34-cd56-84328440cf75"
      },
      "id": "YRUJ09RtxF-4",
      "execution_count": null,
      "outputs": [
        {
          "output_type": "execute_result",
          "data": {
            "text/plain": [
              "<seaborn.axisgrid.FacetGrid at 0x7f73166b2e50>"
            ]
          },
          "metadata": {},
          "execution_count": 14
        },
        {
          "output_type": "display_data",
          "data": {
            "text/plain": [
              "<Figure size 772.5x360 with 2 Axes>"
            ],
            "image/png": "[encoded data removed]"
          },
          "metadata": {
            "needs_background": "light"
          }
        }
      ]
    },
    {
      "cell_type": "code",
      "source": [
        "# count plot: is a graphical display to show the number of occurrences or frequency for each categorical data using bars\n",
        "\n",
        "plt.figure(figsize=(8,5))\n",
        "sb.countplot(x = \"time\", hue = \"sex\", data=df)"
      ],
      "metadata": {
        "id": "uwclKXgZ3CT6",
        "colab": {
          "base_uri": "https://localhost:8080/",
          "height": 352
        },
        "outputId": "dbe03040-79ad-4cb1-db00-fb9ed9d4c819"
      },
      "id": "uwclKXgZ3CT6",
      "execution_count": null,
      "outputs": [
        {
          "output_type": "execute_result",
          "data": {
            "text/plain": [
              "<matplotlib.axes._subplots.AxesSubplot at 0x7f73165544d0>"
            ]
          },
          "metadata": {},
          "execution_count": 15
        },
        {
          "output_type": "display_data",
          "data": {
            "text/plain": [
              "<Figure size 576x360 with 1 Axes>"
            ],
            "image/png": "[encoded data removed]"
          },
          "metadata": {
            "needs_background": "light"
          }
        }
      ]
    },
    {
      "cell_type": "markdown",
      "source": [
        "<div style=\"font-family:verdana; word-spacing:1.5px;\">\n",
        "    <h1 id=\"emoji\">\n",
        "        3 Data Pre-processing and cleaning\n",
        "        <br>\n",
        "    </h1>\n",
        "    <p style=\"line-height:1.7em;\">\n",
        "    <ol>\n",
        "        <li>\n",
        "            <b>Identify NULL or Missing Values based on column. Apply appropriate feature engineering techniques for them.</b>\n",
        "        </li>\n",
        "        <li>\n",
        "            <b>Do the correlational analysis on the dataset. Provide a visualization for the same.</b>\n",
        "        </li>\n",
        "        <li>\n",
        "            <b>Comment on confounding variables if any.</b>\n",
        "        </li>\n",
        "    </ol>\n",
        "</div>"
      ],
      "metadata": {
        "id": "Ll8_Y8pSJ8S2"
      },
      "id": "Ll8_Y8pSJ8S2"
    },
    {
      "cell_type": "code",
      "source": [
        "df.isnull().sum()"
      ],
      "metadata": {
        "id": "rsNGBrcl5c1D",
        "colab": {
          "base_uri": "https://localhost:8080/"
        },
        "outputId": "e39a3fe5-eb7b-414c-90ca-a2cbb170a198"
      },
      "id": "rsNGBrcl5c1D",
      "execution_count": null,
      "outputs": [
        {
          "output_type": "execute_result",
          "data": {
            "text/plain": [
              "total_bill    0\n",
              "tip           0\n",
              "sex           0\n",
              "smoker        0\n",
              "day           0\n",
              "time          0\n",
              "size          0\n",
              "dtype: int64"
            ]
          },
          "metadata": {},
          "execution_count": 48
        }
      ]
    },
    {
      "cell_type": "code",
      "source": [
        "dummied_data = df.copy()\n",
        "dummied_data = pd.get_dummies(dummied_data, columns = ['sex', 'smoker', 'day', 'time'])\n",
        "dummied_data.sample(5)"
      ],
      "metadata": {
        "id": "HN8pDjwqROn-",
        "colab": {
          "base_uri": "https://localhost:8080/",
          "height": 206
        },
        "outputId": "cc52cdc7-cd15-41d9-bb20-7e14b805121e"
      },
      "id": "HN8pDjwqROn-",
      "execution_count": null,
      "outputs": [
        {
          "output_type": "execute_result",
          "data": {
            "text/plain": [
              "     total_bill  tip  size  sex_Female  sex_Male  smoker_No  smoker_Yes  \\\n",
              "213       13.27  2.5     2           1         0          0           1   \n",
              "159       16.49  2.0     4           0         1          1           0   \n",
              "231       15.69  3.0     3           0         1          0           1   \n",
              "212       48.33  9.0     4           0         1          1           0   \n",
              "26        13.37  2.0     2           0         1          1           0   \n",
              "\n",
              "     day_Fri  day_Sat  day_Sun  day_Thur  time_Dinner  time_Lunch  \n",
              "213        0        1        0         0            1           0  \n",
              "159        0        0        1         0            1           0  \n",
              "231        0        1        0         0            1           0  \n",
              "212        0        1        0         0            1           0  \n",
              "26         0        1        0         0            1           0  "
            ],
            "text/html": [
              "\n",
              "  <div id=\"df-538ee28c-33bd-40c7-833e-909ea62b1650\">\n",
              "    <div class=\"colab-df-container\">\n",
              "      <div>\n",
              "<style scoped>\n",
              "    .dataframe tbody tr th:only-of-type {\n",
              "        vertical-align: middle;\n",
              "    }\n",
              "\n",
              "    .dataframe tbody tr th {\n",
              "        vertical-align: top;\n",
              "    }\n",
              "\n",
              "    .dataframe thead th {\n",
              "        text-align: right;\n",
              "    }\n",
              "</style>\n",
              "<table border=\"1\" class=\"dataframe\">\n",
              "  <thead>\n",
              "    <tr style=\"text-align: right;\">\n",
              "      <th></th>\n",
              "      <th>total_bill</th>\n",
              "      <th>tip</th>\n",
              "      <th>size</th>\n",
              "      <th>sex_Female</th>\n",
              "      <th>sex_Male</th>\n",
              "      <th>smoker_No</th>\n",
              "      <th>smoker_Yes</th>\n",
              "      <th>day_Fri</th>\n",
              "      <th>day_Sat</th>\n",
              "      <th>day_Sun</th>\n",
              "      <th>day_Thur</th>\n",
              "      <th>time_Dinner</th>\n",
              "      <th>time_Lunch</th>\n",
              "    </tr>\n",
              "  </thead>\n",
              "  <tbody>\n",
              "    <tr>\n",
              "      <th>213</th>\n",
              "      <td>13.27</td>\n",
              "      <td>2.5</td>\n",
              "      <td>2</td>\n",
              "      <td>1</td>\n",
              "      <td>0</td>\n",
              "      <td>0</td>\n",
              "      <td>1</td>\n",
              "      <td>0</td>\n",
              "      <td>1</td>\n",
              "      <td>0</td>\n",
              "      <td>0</td>\n",
              "      <td>1</td>\n",
              "      <td>0</td>\n",
              "    </tr>\n",
              "    <tr>\n",
              "      <th>159</th>\n",
              "      <td>16.49</td>\n",
              "      <td>2.0</td>\n",
              "      <td>4</td>\n",
              "      <td>0</td>\n",
              "      <td>1</td>\n",
              "      <td>1</td>\n",
              "      <td>0</td>\n",
              "      <td>0</td>\n",
              "      <td>0</td>\n",
              "      <td>1</td>\n",
              "      <td>0</td>\n",
              "      <td>1</td>\n",
              "      <td>0</td>\n",
              "    </tr>\n",
              "    <tr>\n",
              "      <th>231</th>\n",
              "      <td>15.69</td>\n",
              "      <td>3.0</td>\n",
              "      <td>3</td>\n",
              "      <td>0</td>\n",
              "      <td>1</td>\n",
              "      <td>0</td>\n",
              "      <td>1</td>\n",
              "      <td>0</td>\n",
              "      <td>1</td>\n",
              "      <td>0</td>\n",
              "      <td>0</td>\n",
              "      <td>1</td>\n",
              "      <td>0</td>\n",
              "    </tr>\n",
              "    <tr>\n",
              "      <th>212</th>\n",
              "      <td>48.33</td>\n",
              "      <td>9.0</td>\n",
              "      <td>4</td>\n",
              "      <td>0</td>\n",
              "      <td>1</td>\n",
              "      <td>1</td>\n",
              "      <td>0</td>\n",
              "      <td>0</td>\n",
              "      <td>1</td>\n",
              "      <td>0</td>\n",
              "      <td>0</td>\n",
              "      <td>1</td>\n",
              "      <td>0</td>\n",
              "    </tr>\n",
              "    <tr>\n",
              "      <th>26</th>\n",
              "      <td>13.37</td>\n",
              "      <td>2.0</td>\n",
              "      <td>2</td>\n",
              "      <td>0</td>\n",
              "      <td>1</td>\n",
              "      <td>1</td>\n",
              "      <td>0</td>\n",
              "      <td>0</td>\n",
              "      <td>1</td>\n",
              "      <td>0</td>\n",
              "      <td>0</td>\n",
              "      <td>1</td>\n",
              "      <td>0</td>\n",
              "    </tr>\n",
              "  </tbody>\n",
              "</table>\n",
              "</div>\n",
              "      <button class=\"colab-df-convert\" onclick=\"convertToInteractive('df-538ee28c-33bd-40c7-833e-909ea62b1650')\"\n",
              "              title=\"Convert this dataframe to an interactive table.\"\n",
              "              style=\"display:none;\">\n",
              "        \n",
              "  <svg xmlns=\"http://www.w3.org/2000/svg\" height=\"24px\"viewBox=\"0 0 24 24\"\n",
              "       width=\"24px\">\n",
              "    <path d=\"M0 0h24v24H0V0z\" fill=\"none\"/>\n",
              "    <path d=\"M18.56 5.44l.94 2.06.94-2.06 2.06-.94-2.06-.94-.94-2.06-.94 2.06-2.06.94zm-11 1L8.5 8.5l.94-2.06 2.06-.94-2.06-.94L8.5 2.5l-.94 2.06-2.06.94zm10 10l.94 2.06.94-2.06 2.06-.94-2.06-.94-.94-2.06-.94 2.06-2.06.94z\"/><path d=\"M17.41 7.96l-1.37-1.37c-.4-.4-.92-.59-1.43-.59-.52 0-1.04.2-1.43.59L10.3 9.45l-7.72 7.72c-.78.78-.78 2.05 0 2.83L4 21.41c.39.39.9.59 1.41.59.51 0 1.02-.2 1.41-.59l7.78-7.78 2.81-2.81c.8-.78.8-2.07 0-2.86zM5.41 20L4 18.59l7.72-7.72 1.47 1.35L5.41 20z\"/>\n",
              "  </svg>\n",
              "      </button>\n",
              "      \n",
              "  <style>\n",
              "    .colab-df-container {\n",
              "      display:flex;\n",
              "      flex-wrap:wrap;\n",
              "      gap: 12px;\n",
              "    }\n",
              "\n",
              "    .colab-df-convert {\n",
              "      background-color: #E8F0FE;\n",
              "      border: none;\n",
              "      border-radius: 50%;\n",
              "      cursor: pointer;\n",
              "      display: none;\n",
              "      fill: #1967D2;\n",
              "      height: 32px;\n",
              "      padding: 0 0 0 0;\n",
              "      width: 32px;\n",
              "    }\n",
              "\n",
              "    .colab-df-convert:hover {\n",
              "      background-color: #E2EBFA;\n",
              "      box-shadow: 0px 1px 2px rgba(60, 64, 67, 0.3), 0px 1px 3px 1px rgba(60, 64, 67, 0.15);\n",
              "      fill: #174EA6;\n",
              "    }\n",
              "\n",
              "    [theme=dark] .colab-df-convert {\n",
              "      background-color: #3B4455;\n",
              "      fill: #D2E3FC;\n",
              "    }\n",
              "\n",
              "    [theme=dark] .colab-df-convert:hover {\n",
              "      background-color: #434B5C;\n",
              "      box-shadow: 0px 1px 3px 1px rgba(0, 0, 0, 0.15);\n",
              "      filter: drop-shadow(0px 1px 2px rgba(0, 0, 0, 0.3));\n",
              "      fill: #FFFFFF;\n",
              "    }\n",
              "  </style>\n",
              "\n",
              "      <script>\n",
              "        const buttonEl =\n",
              "          document.querySelector('#df-538ee28c-33bd-40c7-833e-909ea62b1650 button.colab-df-convert');\n",
              "        buttonEl.style.display =\n",
              "          google.colab.kernel.accessAllowed ? 'block' : 'none';\n",
              "\n",
              "        async function convertToInteractive(key) {\n",
              "          const element = document.querySelector('#df-538ee28c-33bd-40c7-833e-909ea62b1650');\n",
              "          const dataTable =\n",
              "            await google.colab.kernel.invokeFunction('convertToInteractive',\n",
              "                                                     [key], {});\n",
              "          if (!dataTable) return;\n",
              "\n",
              "          const docLinkHtml = 'Like what you see? Visit the ' +\n",
              "            '<a target=\"_blank\" href=https://colab.research.google.com/notebooks/data_table.ipynb>data table notebook</a>'\n",
              "            + ' to learn more about interactive tables.';\n",
              "          element.innerHTML = '';\n",
              "          dataTable['output_type'] = 'display_data';\n",
              "          await google.colab.output.renderOutput(dataTable, element);\n",
              "          const docLink = document.createElement('div');\n",
              "          docLink.innerHTML = docLinkHtml;\n",
              "          element.appendChild(docLink);\n",
              "        }\n",
              "      </script>\n",
              "    </div>\n",
              "  </div>\n",
              "  "
            ]
          },
          "metadata": {},
          "execution_count": 17
        }
      ]
    },
    {
      "cell_type": "code",
      "source": [
        "## create x and y variable\n",
        "X = dummied_data.drop(columns='tip')\n",
        "y = dummied_data['tip']"
      ],
      "metadata": {
        "id": "w4LC1EK6WnKS"
      },
      "id": "w4LC1EK6WnKS",
      "execution_count": null,
      "outputs": []
    },
    {
      "cell_type": "code",
      "source": [
        "plt.figure(figsize=(12,10))\n",
        "p = sns.heatmap(df.corr(), annot=True,cmap ='Blues')"
      ],
      "metadata": {
        "id": "YPgKPdrvbyFa",
        "colab": {
          "base_uri": "https://localhost:8080/",
          "height": 596
        },
        "outputId": "70beb845-cc9e-4872-cab6-9d21230cdf19"
      },
      "id": "YPgKPdrvbyFa",
      "execution_count": null,
      "outputs": [
        {
          "output_type": "display_data",
          "data": {
            "text/plain": [
              "<Figure size 864x720 with 2 Axes>"
            ],
            "image/png": "[encoded data removed]"
          },
          "metadata": {
            "needs_background": "light"
          }
        }
      ]
    },
    {
      "cell_type": "markdown",
      "source": [
        "Confounding Variables observation: A confounding variable is an external influence in an experiment. In other words, these variables affect the output of the model by manipulating dependent and independent variables. Subsequently, confounding variables act on dependent variables, leading to inaccurate results.Here in this case, the smoker and siz edata points are found to be confounding variables."
      ],
      "metadata": {
        "id": "GxZpl5GfGI6c"
      },
      "id": "GxZpl5GfGI6c"
    },
    {
      "cell_type": "markdown",
      "source": [
        "<div style=\"font-family:verdana; word-spacing:1.5px;\">\n",
        "    <h1> Part B <br></h1?\n",
        "    <h2 id=\"emoji\">\n",
        "        1 Model Building\n",
        "        <br>\n",
        "    </h2>\n",
        "    <p style=\"line-height:1.7em;\">\n",
        "    <ol>\n",
        "        <li>\n",
        "            <b>Perform Model Development using locally weighted regression with appropriate hyper parameters.</b>\n",
        "        </li>\n",
        "        <li>\n",
        "            <b>Train the model and print the appropriate evaluation parameters like R Square/Adjusted R Square, Mean Square Error(MSE)/Root Mean Square Error(RMSE), Mean Absolute Error(MAE).</b>\n",
        "        </li>\n",
        "    </ol>\n",
        "</div>"
      ],
      "metadata": {
        "id": "1x-HRO3tRkIm"
      },
      "id": "1x-HRO3tRkIm"
    },
    {
      "cell_type": "markdown",
      "source": [
        "\n",
        "\n",
        "<div style=\"font-family:verdana; word-spacing:1.5px;\">\n",
        "    <h3 id=\"emoji\">\n",
        "         Linear Regression<br>\n",
        "$ y = \\beta_0 + \\beta_1 x $ <br>\n",
        "\n",
        "where X is feature which is independent and y isn target to be predicted which depends on X and $ \\beta_0 $ <br>\n",
        "        <br>\n",
        "    </h3>\n",
        "</div>"
      ],
      "metadata": {
        "id": "Jv5deJpK4lJs"
      },
      "id": "Jv5deJpK4lJs"
    },
    {
      "cell_type": "code",
      "source": [
        "## Splitting the data for training and testing\n",
        "\n",
        "X_train, X_test, y_train, y_test = train_test_split(X, y, test_size= .33, random_state=666)"
      ],
      "metadata": {
        "id": "SYb6KaD39ZzB"
      },
      "id": "SYb6KaD39ZzB",
      "execution_count": null,
      "outputs": []
    },
    {
      "cell_type": "code",
      "source": [
        "model = LinearRegression()"
      ],
      "metadata": {
        "id": "Xv5RUYZJA8nr"
      },
      "id": "Xv5RUYZJA8nr",
      "execution_count": null,
      "outputs": []
    },
    {
      "cell_type": "code",
      "source": [
        "model.fit(X_train, y_train)"
      ],
      "metadata": {
        "id": "sj97ve6XC0pb",
        "colab": {
          "base_uri": "https://localhost:8080/"
        },
        "outputId": "3aad2d4c-76b9-443b-8eae-3262a96071a8"
      },
      "id": "sj97ve6XC0pb",
      "execution_count": null,
      "outputs": [
        {
          "output_type": "execute_result",
          "data": {
            "text/plain": [
              "LinearRegression()"
            ]
          },
          "metadata": {},
          "execution_count": 22
        }
      ]
    },
    {
      "cell_type": "code",
      "source": [
        "model.intercept_"
      ],
      "metadata": {
        "id": "DVyXW160C3ij",
        "colab": {
          "base_uri": "https://localhost:8080/"
        },
        "outputId": "8225149a-5269-42a0-c682-49e747b770db"
      },
      "id": "DVyXW160C3ij",
      "execution_count": null,
      "outputs": [
        {
          "output_type": "execute_result",
          "data": {
            "text/plain": [
              "0.7823572799020106"
            ]
          },
          "metadata": {},
          "execution_count": 23
        }
      ]
    },
    {
      "cell_type": "code",
      "source": [
        "model.coef_"
      ],
      "metadata": {
        "id": "wacugWaJC5dT",
        "colab": {
          "base_uri": "https://localhost:8080/"
        },
        "outputId": "d47747de-2511-4625-eb41-ea9756e5837c"
      },
      "id": "wacugWaJC5dT",
      "execution_count": null,
      "outputs": [
        {
          "output_type": "execute_result",
          "data": {
            "text/plain": [
              "array([ 0.08822353,  0.20310361,  0.09902999, -0.09902999,  0.03670013,\n",
              "       -0.03670013,  0.11676446, -0.05757366,  0.11513933, -0.17433012,\n",
              "       -0.07794444,  0.07794444])"
            ]
          },
          "metadata": {},
          "execution_count": 24
        }
      ]
    },
    {
      "cell_type": "markdown",
      "source": [
        "Calculation of Appropriate Evaluation Parameters"
      ],
      "metadata": {
        "id": "ClDS6D48_EW9"
      },
      "id": "ClDS6D48_EW9"
    },
    {
      "cell_type": "code",
      "source": [
        "pred_test = model.predict(X_test)"
      ],
      "metadata": {
        "id": "PA9Vehxu_Drf"
      },
      "id": "PA9Vehxu_Drf",
      "execution_count": null,
      "outputs": []
    },
    {
      "cell_type": "code",
      "source": [
        "## R2 for Testing Set\n",
        "\n",
        "r2_test = r2_score(y_test, pred_test)\n",
        "r2_test"
      ],
      "metadata": {
        "id": "IFgwF6xZ_due",
        "colab": {
          "base_uri": "https://localhost:8080/"
        },
        "outputId": "c1833f61-ee03-4f73-ffff-fcc77ac0b5d9"
      },
      "id": "IFgwF6xZ_due",
      "execution_count": null,
      "outputs": [
        {
          "output_type": "execute_result",
          "data": {
            "text/plain": [
              "0.45473383906669906"
            ]
          },
          "metadata": {},
          "execution_count": 26
        }
      ]
    },
    {
      "cell_type": "code",
      "source": [
        "## Mean Absolute Error for Testing Set\n",
        "\n",
        "MAE_test = mean_absolute_error(y_test, pred_test)\n",
        "MAE_test"
      ],
      "metadata": {
        "id": "JMI3q9J-_lo1",
        "colab": {
          "base_uri": "https://localhost:8080/"
        },
        "outputId": "572e2a09-b14d-4b76-f82c-7e1bbd4dd46b"
      },
      "id": "JMI3q9J-_lo1",
      "execution_count": null,
      "outputs": [
        {
          "output_type": "execute_result",
          "data": {
            "text/plain": [
              "0.7728172393487371"
            ]
          },
          "metadata": {},
          "execution_count": 27
        }
      ]
    },
    {
      "cell_type": "code",
      "source": [
        "## Mean Squared Error for Testing Set\n",
        "\n",
        "MSE_test = mean_squared_error(y_test, pred_test)\n",
        "MSE_test\n",
        "\n"
      ],
      "metadata": {
        "id": "7fDHmtJQ_o50",
        "colab": {
          "base_uri": "https://localhost:8080/"
        },
        "outputId": "41c9de13-3b43-4e76-edb5-c5f098db7cea"
      },
      "id": "7fDHmtJQ_o50",
      "execution_count": null,
      "outputs": [
        {
          "output_type": "execute_result",
          "data": {
            "text/plain": [
              "1.1462809292077802"
            ]
          },
          "metadata": {},
          "execution_count": 28
        }
      ]
    },
    {
      "cell_type": "code",
      "source": [
        "## Root Mean Squared Error for Testing Set\n",
        "\n",
        "RMSE_test = np.sqrt(MSE_test)\n",
        "RMSE_test"
      ],
      "metadata": {
        "id": "TOaOzB-v_tP_",
        "colab": {
          "base_uri": "https://localhost:8080/"
        },
        "outputId": "38f389df-3e69-467d-cfbc-494663f8c08a"
      },
      "id": "TOaOzB-v_tP_",
      "execution_count": null,
      "outputs": [
        {
          "output_type": "execute_result",
          "data": {
            "text/plain": [
              "1.070645099558103"
            ]
          },
          "metadata": {},
          "execution_count": 29
        }
      ]
    },
    {
      "cell_type": "markdown",
      "source": [
        "<div style=\"font-family:verdana; word-spacing:1.5px;\">\n",
        "    <h1>2 Performance Evaluation <br></h1?\n",
        "    <p style=\"line-height:1.7em;\">\n",
        "    <ol>\n",
        "        <li>\n",
        "            <b>Do the prediction for the test data and display the results for the inference.</b>\n",
        "        </li>\n",
        "        <li>\n",
        "            <b>Compare the accuracy of train data with test data. Provide appropriate analysis for the same for all cases.</b>\n",
        "        </li>\n",
        "        <li>\n",
        "            <b>Write your observation for result of each question and justify your answer.</b>\n",
        "        </li>\n",
        "    </ol>\n",
        "</div>"
      ],
      "metadata": {
        "id": "6q_QbLcu6Z21"
      },
      "id": "6q_QbLcu6Z21"
    },
    {
      "cell_type": "code",
      "source": [
        "y_pred = model.predict(X_test)"
      ],
      "metadata": {
        "id": "Xt4Ej4gPC7l9"
      },
      "id": "Xt4Ej4gPC7l9",
      "execution_count": null,
      "outputs": []
    },
    {
      "cell_type": "code",
      "source": [
        "y_pred[:5]"
      ],
      "metadata": {
        "id": "8FvqZpvqC931",
        "colab": {
          "base_uri": "https://localhost:8080/"
        },
        "outputId": "baf1f783-4671-481f-b91c-ac2ebd21aa86"
      },
      "id": "8FvqZpvqC931",
      "execution_count": null,
      "outputs": [
        {
          "output_type": "execute_result",
          "data": {
            "text/plain": [
              "array([3.59808525, 2.32893861, 3.97328503, 4.87845846, 2.04037144])"
            ]
          },
          "metadata": {},
          "execution_count": 31
        }
      ]
    },
    {
      "cell_type": "code",
      "source": [
        "np.array(y_test[:5])"
      ],
      "metadata": {
        "id": "30M98z16IHXU",
        "colab": {
          "base_uri": "https://localhost:8080/"
        },
        "outputId": "3bd596ca-1c97-43c0-ff88-f37eb583efd6"
      },
      "id": "30M98z16IHXU",
      "execution_count": null,
      "outputs": [
        {
          "output_type": "execute_result",
          "data": {
            "text/plain": [
              "array([5.  , 2.52, 3.75, 5.  , 1.56])"
            ]
          },
          "metadata": {},
          "execution_count": 32
        }
      ]
    },
    {
      "cell_type": "code",
      "source": [
        "np.array(X_test[:5])[:,0]"
      ],
      "metadata": {
        "id": "SdwoAQJqIYBU",
        "colab": {
          "base_uri": "https://localhost:8080/"
        },
        "outputId": "06fc0ab7-a8e2-433e-956a-32f450b9d005"
      },
      "id": "SdwoAQJqIYBU",
      "execution_count": null,
      "outputs": [
        {
          "output_type": "execute_result",
          "data": {
            "text/plain": [
              "array([20.69, 12.48, 25.  , 35.26,  9.94])"
            ]
          },
          "metadata": {},
          "execution_count": 33
        }
      ]
    },
    {
      "cell_type": "code",
      "source": [
        "X_test[:5]"
      ],
      "metadata": {
        "id": "XOzi-i9d6ytE",
        "colab": {
          "base_uri": "https://localhost:8080/",
          "height": 206
        },
        "outputId": "419bbe0e-c807-4c68-c169-f658c1466482"
      },
      "id": "XOzi-i9d6ytE",
      "execution_count": null,
      "outputs": [
        {
          "output_type": "execute_result",
          "data": {
            "text/plain": [
              "     total_bill  size  sex_Female  sex_Male  smoker_No  smoker_Yes  day_Fri  \\\n",
              "185       20.69     5           0         1          1           0        0   \n",
              "124       12.48     2           1         0          1           0        0   \n",
              "157       25.00     4           1         0          1           0        0   \n",
              "11        35.26     4           1         0          1           0        0   \n",
              "53         9.94     2           0         1          1           0        0   \n",
              "\n",
              "     day_Sat  day_Sun  day_Thur  time_Dinner  time_Lunch  \n",
              "185        0        1         0            1           0  \n",
              "124        0        0         1            0           1  \n",
              "157        0        1         0            1           0  \n",
              "11         0        1         0            1           0  \n",
              "53         0        1         0            1           0  "
            ],
            "text/html": [
              "\n",
              "  <div id=\"df-8c40e002-035f-4e26-997d-0f4609d190b9\">\n",
              "    <div class=\"colab-df-container\">\n",
              "      <div>\n",
              "<style scoped>\n",
              "    .dataframe tbody tr th:only-of-type {\n",
              "        vertical-align: middle;\n",
              "    }\n",
              "\n",
              "    .dataframe tbody tr th {\n",
              "        vertical-align: top;\n",
              "    }\n",
              "\n",
              "    .dataframe thead th {\n",
              "        text-align: right;\n",
              "    }\n",
              "</style>\n",
              "<table border=\"1\" class=\"dataframe\">\n",
              "  <thead>\n",
              "    <tr style=\"text-align: right;\">\n",
              "      <th></th>\n",
              "      <th>total_bill</th>\n",
              "      <th>size</th>\n",
              "      <th>sex_Female</th>\n",
              "      <th>sex_Male</th>\n",
              "      <th>smoker_No</th>\n",
              "      <th>smoker_Yes</th>\n",
              "      <th>day_Fri</th>\n",
              "      <th>day_Sat</th>\n",
              "      <th>day_Sun</th>\n",
              "      <th>day_Thur</th>\n",
              "      <th>time_Dinner</th>\n",
              "      <th>time_Lunch</th>\n",
              "    </tr>\n",
              "  </thead>\n",
              "  <tbody>\n",
              "    <tr>\n",
              "      <th>185</th>\n",
              "      <td>20.69</td>\n",
              "      <td>5</td>\n",
              "      <td>0</td>\n",
              "      <td>1</td>\n",
              "      <td>1</td>\n",
              "      <td>0</td>\n",
              "      <td>0</td>\n",
              "      <td>0</td>\n",
              "      <td>1</td>\n",
              "      <td>0</td>\n",
              "      <td>1</td>\n",
              "      <td>0</td>\n",
              "    </tr>\n",
              "    <tr>\n",
              "      <th>124</th>\n",
              "      <td>12.48</td>\n",
              "      <td>2</td>\n",
              "      <td>1</td>\n",
              "      <td>0</td>\n",
              "      <td>1</td>\n",
              "      <td>0</td>\n",
              "      <td>0</td>\n",
              "      <td>0</td>\n",
              "      <td>0</td>\n",
              "      <td>1</td>\n",
              "      <td>0</td>\n",
              "      <td>1</td>\n",
              "    </tr>\n",
              "    <tr>\n",
              "      <th>157</th>\n",
              "      <td>25.00</td>\n",
              "      <td>4</td>\n",
              "      <td>1</td>\n",
              "      <td>0</td>\n",
              "      <td>1</td>\n",
              "      <td>0</td>\n",
              "      <td>0</td>\n",
              "      <td>0</td>\n",
              "      <td>1</td>\n",
              "      <td>0</td>\n",
              "      <td>1</td>\n",
              "      <td>0</td>\n",
              "    </tr>\n",
              "    <tr>\n",
              "      <th>11</th>\n",
              "      <td>35.26</td>\n",
              "      <td>4</td>\n",
              "      <td>1</td>\n",
              "      <td>0</td>\n",
              "      <td>1</td>\n",
              "      <td>0</td>\n",
              "      <td>0</td>\n",
              "      <td>0</td>\n",
              "      <td>1</td>\n",
              "      <td>0</td>\n",
              "      <td>1</td>\n",
              "      <td>0</td>\n",
              "    </tr>\n",
              "    <tr>\n",
              "      <th>53</th>\n",
              "      <td>9.94</td>\n",
              "      <td>2</td>\n",
              "      <td>0</td>\n",
              "      <td>1</td>\n",
              "      <td>1</td>\n",
              "      <td>0</td>\n",
              "      <td>0</td>\n",
              "      <td>0</td>\n",
              "      <td>1</td>\n",
              "      <td>0</td>\n",
              "      <td>1</td>\n",
              "      <td>0</td>\n",
              "    </tr>\n",
              "  </tbody>\n",
              "</table>\n",
              "</div>\n",
              "      <button class=\"colab-df-convert\" onclick=\"convertToInteractive('df-8c40e002-035f-4e26-997d-0f4609d190b9')\"\n",
              "              title=\"Convert this dataframe to an interactive table.\"\n",
              "              style=\"display:none;\">\n",
              "        \n",
              "  <svg xmlns=\"http://www.w3.org/2000/svg\" height=\"24px\"viewBox=\"0 0 24 24\"\n",
              "       width=\"24px\">\n",
              "    <path d=\"M0 0h24v24H0V0z\" fill=\"none\"/>\n",
              "    <path d=\"M18.56 5.44l.94 2.06.94-2.06 2.06-.94-2.06-.94-.94-2.06-.94 2.06-2.06.94zm-11 1L8.5 8.5l.94-2.06 2.06-.94-2.06-.94L8.5 2.5l-.94 2.06-2.06.94zm10 10l.94 2.06.94-2.06 2.06-.94-2.06-.94-.94-2.06-.94 2.06-2.06.94z\"/><path d=\"M17.41 7.96l-1.37-1.37c-.4-.4-.92-.59-1.43-.59-.52 0-1.04.2-1.43.59L10.3 9.45l-7.72 7.72c-.78.78-.78 2.05 0 2.83L4 21.41c.39.39.9.59 1.41.59.51 0 1.02-.2 1.41-.59l7.78-7.78 2.81-2.81c.8-.78.8-2.07 0-2.86zM5.41 20L4 18.59l7.72-7.72 1.47 1.35L5.41 20z\"/>\n",
              "  </svg>\n",
              "      </button>\n",
              "      \n",
              "  <style>\n",
              "    .colab-df-container {\n",
              "      display:flex;\n",
              "      flex-wrap:wrap;\n",
              "      gap: 12px;\n",
              "    }\n",
              "\n",
              "    .colab-df-convert {\n",
              "      background-color: #E8F0FE;\n",
              "      border: none;\n",
              "      border-radius: 50%;\n",
              "      cursor: pointer;\n",
              "      display: none;\n",
              "      fill: #1967D2;\n",
              "      height: 32px;\n",
              "      padding: 0 0 0 0;\n",
              "      width: 32px;\n",
              "    }\n",
              "\n",
              "    .colab-df-convert:hover {\n",
              "      background-color: #E2EBFA;\n",
              "      box-shadow: 0px 1px 2px rgba(60, 64, 67, 0.3), 0px 1px 3px 1px rgba(60, 64, 67, 0.15);\n",
              "      fill: #174EA6;\n",
              "    }\n",
              "\n",
              "    [theme=dark] .colab-df-convert {\n",
              "      background-color: #3B4455;\n",
              "      fill: #D2E3FC;\n",
              "    }\n",
              "\n",
              "    [theme=dark] .colab-df-convert:hover {\n",
              "      background-color: #434B5C;\n",
              "      box-shadow: 0px 1px 3px 1px rgba(0, 0, 0, 0.15);\n",
              "      filter: drop-shadow(0px 1px 2px rgba(0, 0, 0, 0.3));\n",
              "      fill: #FFFFFF;\n",
              "    }\n",
              "  </style>\n",
              "\n",
              "      <script>\n",
              "        const buttonEl =\n",
              "          document.querySelector('#df-8c40e002-035f-4e26-997d-0f4609d190b9 button.colab-df-convert');\n",
              "        buttonEl.style.display =\n",
              "          google.colab.kernel.accessAllowed ? 'block' : 'none';\n",
              "\n",
              "        async function convertToInteractive(key) {\n",
              "          const element = document.querySelector('#df-8c40e002-035f-4e26-997d-0f4609d190b9');\n",
              "          const dataTable =\n",
              "            await google.colab.kernel.invokeFunction('convertToInteractive',\n",
              "                                                     [key], {});\n",
              "          if (!dataTable) return;\n",
              "\n",
              "          const docLinkHtml = 'Like what you see? Visit the ' +\n",
              "            '<a target=\"_blank\" href=https://colab.research.google.com/notebooks/data_table.ipynb>data table notebook</a>'\n",
              "            + ' to learn more about interactive tables.';\n",
              "          element.innerHTML = '';\n",
              "          dataTable['output_type'] = 'display_data';\n",
              "          await google.colab.output.renderOutput(dataTable, element);\n",
              "          const docLink = document.createElement('div');\n",
              "          docLink.innerHTML = docLinkHtml;\n",
              "          element.appendChild(docLink);\n",
              "        }\n",
              "      </script>\n",
              "    </div>\n",
              "  </div>\n",
              "  "
            ]
          },
          "metadata": {},
          "execution_count": 34
        }
      ]
    },
    {
      "cell_type": "code",
      "source": [
        "y_test[:5]"
      ],
      "metadata": {
        "id": "bD8_XbuS7BOq",
        "colab": {
          "base_uri": "https://localhost:8080/"
        },
        "outputId": "0f2a1002-c862-4236-8a81-4a15a9fe5b71"
      },
      "id": "bD8_XbuS7BOq",
      "execution_count": null,
      "outputs": [
        {
          "output_type": "execute_result",
          "data": {
            "text/plain": [
              "185    5.00\n",
              "124    2.52\n",
              "157    3.75\n",
              "11     5.00\n",
              "53     1.56\n",
              "Name: tip, dtype: float64"
            ]
          },
          "metadata": {},
          "execution_count": 35
        }
      ]
    },
    {
      "cell_type": "markdown",
      "source": [
        "\n",
        "<div style=\"font-family:verdana; word-spacing:1.5px;\">\n",
        "    <h3 id=\"emoji\">\n",
        "Error Analysis         \n",
        "        <br>\n",
        "    </h3>\n",
        "</div>"
      ],
      "metadata": {
        "id": "XAOl4r_v9Q52"
      },
      "id": "XAOl4r_v9Q52"
    },
    {
      "cell_type": "code",
      "source": [
        "## Error Analysis\n",
        "\n",
        "Training_set = pd.concat([X_train, y_train], axis = 1)"
      ],
      "metadata": {
        "id": "UU0spMVU7D2u"
      },
      "id": "UU0spMVU7D2u",
      "execution_count": null,
      "outputs": []
    },
    {
      "cell_type": "code",
      "source": [
        "pred_train = model.predict(X_train)"
      ],
      "metadata": {
        "id": "UnHJPlU89hQE"
      },
      "id": "UnHJPlU89hQE",
      "execution_count": null,
      "outputs": []
    },
    {
      "cell_type": "code",
      "source": [
        "## Top 10 Biggest Error on Training Set\n",
        "\n",
        "Training_set['tip_pred'] = pred_train\n",
        "Training_set['Error'] = abs(Training_set['tip'] - Training_set['tip_pred'])\n",
        "Training_set.sort_values('Error', ascending=False).head(10)"
      ],
      "metadata": {
        "id": "TJfExBpv9mIz",
        "colab": {
          "base_uri": "https://localhost:8080/",
          "height": 363
        },
        "outputId": "22fbd0f3-5332-499d-e544-8648f60ecc44"
      },
      "id": "TJfExBpv9mIz",
      "execution_count": null,
      "outputs": [
        {
          "output_type": "execute_result",
          "data": {
            "text/plain": [
              "     total_bill  size  sex_Female  sex_Male  smoker_No  smoker_Yes  day_Fri  \\\n",
              "170       50.81     3           0         1          0           1        0   \n",
              "183       23.17     4           0         1          0           1        0   \n",
              "102       44.30     3           1         0          0           1        0   \n",
              "214       28.17     3           1         0          0           1        0   \n",
              "237       32.83     2           0         1          0           1        0   \n",
              "88        24.71     2           0         1          1           0        0   \n",
              "57        26.41     2           1         0          1           0        0   \n",
              "46        22.23     2           0         1          1           0        0   \n",
              "178        9.60     2           1         0          0           1        0   \n",
              "48        28.55     3           0         1          1           0        0   \n",
              "\n",
              "     day_Sat  day_Sun  day_Thur  time_Dinner  time_Lunch    tip  tip_pred  \\\n",
              "170        1        0         0            1           0  10.00  5.603058   \n",
              "183        0        1         0            1           0   6.50  3.540376   \n",
              "102        1        0         0            1           0   2.50  5.226782   \n",
              "214        1        0         0            1           0   6.50  3.803737   \n",
              "237        1        0         0            1           0   1.17  3.813695   \n",
              "88         0        0         1            0           1   5.85  3.209852   \n",
              "57         1        0         0            1           0   1.50  3.518760   \n",
              "46         0        1         0            1           0   5.00  3.124639   \n",
              "178        0        1         0            1           0   4.00  2.135035   \n",
              "48         0        1         0            1           0   2.05  3.885315   \n",
              "\n",
              "        Error  \n",
              "170  4.396942  \n",
              "183  2.959624  \n",
              "102  2.726782  \n",
              "214  2.696263  \n",
              "237  2.643695  \n",
              "88   2.640148  \n",
              "57   2.018760  \n",
              "46   1.875361  \n",
              "178  1.864965  \n",
              "48   1.835315  "
            ],
            "text/html": [
              "\n",
              "  <div id=\"df-1ee85101-9fb3-4087-a8aa-6d57e6e32f10\">\n",
              "    <div class=\"colab-df-container\">\n",
              "      <div>\n",
              "<style scoped>\n",
              "    .dataframe tbody tr th:only-of-type {\n",
              "        vertical-align: middle;\n",
              "    }\n",
              "\n",
              "    .dataframe tbody tr th {\n",
              "        vertical-align: top;\n",
              "    }\n",
              "\n",
              "    .dataframe thead th {\n",
              "        text-align: right;\n",
              "    }\n",
              "</style>\n",
              "<table border=\"1\" class=\"dataframe\">\n",
              "  <thead>\n",
              "    <tr style=\"text-align: right;\">\n",
              "      <th></th>\n",
              "      <th>total_bill</th>\n",
              "      <th>size</th>\n",
              "      <th>sex_Female</th>\n",
              "      <th>sex_Male</th>\n",
              "      <th>smoker_No</th>\n",
              "      <th>smoker_Yes</th>\n",
              "      <th>day_Fri</th>\n",
              "      <th>day_Sat</th>\n",
              "      <th>day_Sun</th>\n",
              "      <th>day_Thur</th>\n",
              "      <th>time_Dinner</th>\n",
              "      <th>time_Lunch</th>\n",
              "      <th>tip</th>\n",
              "      <th>tip_pred</th>\n",
              "      <th>Error</th>\n",
              "    </tr>\n",
              "  </thead>\n",
              "  <tbody>\n",
              "    <tr>\n",
              "      <th>170</th>\n",
              "      <td>50.81</td>\n",
              "      <td>3</td>\n",
              "      <td>0</td>\n",
              "      <td>1</td>\n",
              "      <td>0</td>\n",
              "      <td>1</td>\n",
              "      <td>0</td>\n",
              "      <td>1</td>\n",
              "      <td>0</td>\n",
              "      <td>0</td>\n",
              "      <td>1</td>\n",
              "      <td>0</td>\n",
              "      <td>10.00</td>\n",
              "      <td>5.603058</td>\n",
              "      <td>4.396942</td>\n",
              "    </tr>\n",
              "    <tr>\n",
              "      <th>183</th>\n",
              "      <td>23.17</td>\n",
              "      <td>4</td>\n",
              "      <td>0</td>\n",
              "      <td>1</td>\n",
              "      <td>0</td>\n",
              "      <td>1</td>\n",
              "      <td>0</td>\n",
              "      <td>0</td>\n",
              "      <td>1</td>\n",
              "      <td>0</td>\n",
              "      <td>1</td>\n",
              "      <td>0</td>\n",
              "      <td>6.50</td>\n",
              "      <td>3.540376</td>\n",
              "      <td>2.959624</td>\n",
              "    </tr>\n",
              "    <tr>\n",
              "      <th>102</th>\n",
              "      <td>44.30</td>\n",
              "      <td>3</td>\n",
              "      <td>1</td>\n",
              "      <td>0</td>\n",
              "      <td>0</td>\n",
              "      <td>1</td>\n",
              "      <td>0</td>\n",
              "      <td>1</td>\n",
              "      <td>0</td>\n",
              "      <td>0</td>\n",
              "      <td>1</td>\n",
              "      <td>0</td>\n",
              "      <td>2.50</td>\n",
              "      <td>5.226782</td>\n",
              "      <td>2.726782</td>\n",
              "    </tr>\n",
              "    <tr>\n",
              "      <th>214</th>\n",
              "      <td>28.17</td>\n",
              "      <td>3</td>\n",
              "      <td>1</td>\n",
              "      <td>0</td>\n",
              "      <td>0</td>\n",
              "      <td>1</td>\n",
              "      <td>0</td>\n",
              "      <td>1</td>\n",
              "      <td>0</td>\n",
              "      <td>0</td>\n",
              "      <td>1</td>\n",
              "      <td>0</td>\n",
              "      <td>6.50</td>\n",
              "      <td>3.803737</td>\n",
              "      <td>2.696263</td>\n",
              "    </tr>\n",
              "    <tr>\n",
              "      <th>237</th>\n",
              "      <td>32.83</td>\n",
              "      <td>2</td>\n",
              "      <td>0</td>\n",
              "      <td>1</td>\n",
              "      <td>0</td>\n",
              "      <td>1</td>\n",
              "      <td>0</td>\n",
              "      <td>1</td>\n",
              "      <td>0</td>\n",
              "      <td>0</td>\n",
              "      <td>1</td>\n",
              "      <td>0</td>\n",
              "      <td>1.17</td>\n",
              "      <td>3.813695</td>\n",
              "      <td>2.643695</td>\n",
              "    </tr>\n",
              "    <tr>\n",
              "      <th>88</th>\n",
              "      <td>24.71</td>\n",
              "      <td>2</td>\n",
              "      <td>0</td>\n",
              "      <td>1</td>\n",
              "      <td>1</td>\n",
              "      <td>0</td>\n",
              "      <td>0</td>\n",
              "      <td>0</td>\n",
              "      <td>0</td>\n",
              "      <td>1</td>\n",
              "      <td>0</td>\n",
              "      <td>1</td>\n",
              "      <td>5.85</td>\n",
              "      <td>3.209852</td>\n",
              "      <td>2.640148</td>\n",
              "    </tr>\n",
              "    <tr>\n",
              "      <th>57</th>\n",
              "      <td>26.41</td>\n",
              "      <td>2</td>\n",
              "      <td>1</td>\n",
              "      <td>0</td>\n",
              "      <td>1</td>\n",
              "      <td>0</td>\n",
              "      <td>0</td>\n",
              "      <td>1</td>\n",
              "      <td>0</td>\n",
              "      <td>0</td>\n",
              "      <td>1</td>\n",
              "      <td>0</td>\n",
              "      <td>1.50</td>\n",
              "      <td>3.518760</td>\n",
              "      <td>2.018760</td>\n",
              "    </tr>\n",
              "    <tr>\n",
              "      <th>46</th>\n",
              "      <td>22.23</td>\n",
              "      <td>2</td>\n",
              "      <td>0</td>\n",
              "      <td>1</td>\n",
              "      <td>1</td>\n",
              "      <td>0</td>\n",
              "      <td>0</td>\n",
              "      <td>0</td>\n",
              "      <td>1</td>\n",
              "      <td>0</td>\n",
              "      <td>1</td>\n",
              "      <td>0</td>\n",
              "      <td>5.00</td>\n",
              "      <td>3.124639</td>\n",
              "      <td>1.875361</td>\n",
              "    </tr>\n",
              "    <tr>\n",
              "      <th>178</th>\n",
              "      <td>9.60</td>\n",
              "      <td>2</td>\n",
              "      <td>1</td>\n",
              "      <td>0</td>\n",
              "      <td>0</td>\n",
              "      <td>1</td>\n",
              "      <td>0</td>\n",
              "      <td>0</td>\n",
              "      <td>1</td>\n",
              "      <td>0</td>\n",
              "      <td>1</td>\n",
              "      <td>0</td>\n",
              "      <td>4.00</td>\n",
              "      <td>2.135035</td>\n",
              "      <td>1.864965</td>\n",
              "    </tr>\n",
              "    <tr>\n",
              "      <th>48</th>\n",
              "      <td>28.55</td>\n",
              "      <td>3</td>\n",
              "      <td>0</td>\n",
              "      <td>1</td>\n",
              "      <td>1</td>\n",
              "      <td>0</td>\n",
              "      <td>0</td>\n",
              "      <td>0</td>\n",
              "      <td>1</td>\n",
              "      <td>0</td>\n",
              "      <td>1</td>\n",
              "      <td>0</td>\n",
              "      <td>2.05</td>\n",
              "      <td>3.885315</td>\n",
              "      <td>1.835315</td>\n",
              "    </tr>\n",
              "  </tbody>\n",
              "</table>\n",
              "</div>\n",
              "      <button class=\"colab-df-convert\" onclick=\"convertToInteractive('df-1ee85101-9fb3-4087-a8aa-6d57e6e32f10')\"\n",
              "              title=\"Convert this dataframe to an interactive table.\"\n",
              "              style=\"display:none;\">\n",
              "        \n",
              "  <svg xmlns=\"http://www.w3.org/2000/svg\" height=\"24px\"viewBox=\"0 0 24 24\"\n",
              "       width=\"24px\">\n",
              "    <path d=\"M0 0h24v24H0V0z\" fill=\"none\"/>\n",
              "    <path d=\"M18.56 5.44l.94 2.06.94-2.06 2.06-.94-2.06-.94-.94-2.06-.94 2.06-2.06.94zm-11 1L8.5 8.5l.94-2.06 2.06-.94-2.06-.94L8.5 2.5l-.94 2.06-2.06.94zm10 10l.94 2.06.94-2.06 2.06-.94-2.06-.94-.94-2.06-.94 2.06-2.06.94z\"/><path d=\"M17.41 7.96l-1.37-1.37c-.4-.4-.92-.59-1.43-.59-.52 0-1.04.2-1.43.59L10.3 9.45l-7.72 7.72c-.78.78-.78 2.05 0 2.83L4 21.41c.39.39.9.59 1.41.59.51 0 1.02-.2 1.41-.59l7.78-7.78 2.81-2.81c.8-.78.8-2.07 0-2.86zM5.41 20L4 18.59l7.72-7.72 1.47 1.35L5.41 20z\"/>\n",
              "  </svg>\n",
              "      </button>\n",
              "      \n",
              "  <style>\n",
              "    .colab-df-container {\n",
              "      display:flex;\n",
              "      flex-wrap:wrap;\n",
              "      gap: 12px;\n",
              "    }\n",
              "\n",
              "    .colab-df-convert {\n",
              "      background-color: #E8F0FE;\n",
              "      border: none;\n",
              "      border-radius: 50%;\n",
              "      cursor: pointer;\n",
              "      display: none;\n",
              "      fill: #1967D2;\n",
              "      height: 32px;\n",
              "      padding: 0 0 0 0;\n",
              "      width: 32px;\n",
              "    }\n",
              "\n",
              "    .colab-df-convert:hover {\n",
              "      background-color: #E2EBFA;\n",
              "      box-shadow: 0px 1px 2px rgba(60, 64, 67, 0.3), 0px 1px 3px 1px rgba(60, 64, 67, 0.15);\n",
              "      fill: #174EA6;\n",
              "    }\n",
              "\n",
              "    [theme=dark] .colab-df-convert {\n",
              "      background-color: #3B4455;\n",
              "      fill: #D2E3FC;\n",
              "    }\n",
              "\n",
              "    [theme=dark] .colab-df-convert:hover {\n",
              "      background-color: #434B5C;\n",
              "      box-shadow: 0px 1px 3px 1px rgba(0, 0, 0, 0.15);\n",
              "      filter: drop-shadow(0px 1px 2px rgba(0, 0, 0, 0.3));\n",
              "      fill: #FFFFFF;\n",
              "    }\n",
              "  </style>\n",
              "\n",
              "      <script>\n",
              "        const buttonEl =\n",
              "          document.querySelector('#df-1ee85101-9fb3-4087-a8aa-6d57e6e32f10 button.colab-df-convert');\n",
              "        buttonEl.style.display =\n",
              "          google.colab.kernel.accessAllowed ? 'block' : 'none';\n",
              "\n",
              "        async function convertToInteractive(key) {\n",
              "          const element = document.querySelector('#df-1ee85101-9fb3-4087-a8aa-6d57e6e32f10');\n",
              "          const dataTable =\n",
              "            await google.colab.kernel.invokeFunction('convertToInteractive',\n",
              "                                                     [key], {});\n",
              "          if (!dataTable) return;\n",
              "\n",
              "          const docLinkHtml = 'Like what you see? Visit the ' +\n",
              "            '<a target=\"_blank\" href=https://colab.research.google.com/notebooks/data_table.ipynb>data table notebook</a>'\n",
              "            + ' to learn more about interactive tables.';\n",
              "          element.innerHTML = '';\n",
              "          dataTable['output_type'] = 'display_data';\n",
              "          await google.colab.output.renderOutput(dataTable, element);\n",
              "          const docLink = document.createElement('div');\n",
              "          docLink.innerHTML = docLinkHtml;\n",
              "          element.appendChild(docLink);\n",
              "        }\n",
              "      </script>\n",
              "    </div>\n",
              "  </div>\n",
              "  "
            ]
          },
          "metadata": {},
          "execution_count": 38
        }
      ]
    },
    {
      "cell_type": "code",
      "source": [
        "plt.scatter(y_train, pred_train, s=20)\n",
        "plt.xlabel('Actual Data')\n",
        "plt.ylabel('Data Predicted')\n",
        "plt.show()"
      ],
      "metadata": {
        "id": "H7Lsh0VdJfZn",
        "colab": {
          "base_uri": "https://localhost:8080/",
          "height": 279
        },
        "outputId": "3f737a75-6cac-4f9f-8207-6d6d2d2c8565"
      },
      "id": "H7Lsh0VdJfZn",
      "execution_count": null,
      "outputs": [
        {
          "output_type": "display_data",
          "data": {
            "text/plain": [
              "<Figure size 432x288 with 1 Axes>"
            ],
            "image/png": "[encoded data removed]"
          },
          "metadata": {
            "needs_background": "light"
          }
        }
      ]
    },
    {
      "cell_type": "code",
      "source": [
        "## Visualization of Error using Histogram\n",
        "\n",
        "plt.figure(figsize=(10,12))\n",
        "sns.displot(Training_set['Error'], kde=True,\n",
        "color='red')\n",
        "plt.title('Error Distribution using Histogram')\n",
        "plt.ylabel('Freq')\n",
        "plt.show()\n",
        "\n",
        "## We can see that the error distribution is positively skewed.\n",
        "\n"
      ],
      "metadata": {
        "id": "bgmDSaQD9pG0",
        "colab": {
          "base_uri": "https://localhost:8080/",
          "height": 403
        },
        "outputId": "acff83bf-446a-4128-ade0-3e1ababf691b"
      },
      "id": "bgmDSaQD9pG0",
      "execution_count": null,
      "outputs": [
        {
          "output_type": "display_data",
          "data": {
            "text/plain": [
              "<Figure size 720x864 with 0 Axes>"
            ]
          },
          "metadata": {}
        },
        {
          "output_type": "display_data",
          "data": {
            "text/plain": [
              "<Figure size 360x360 with 1 Axes>"
            ],
            "image/png": "[encoded data removed]"
          },
          "metadata": {
            "needs_background": "light"
          }
        }
      ]
    },
    {
      "cell_type": "code",
      "source": [
        "## Visualization of Error using boxplot\n",
        "\n",
        "plt.figure(figsize=(8,5))\n",
        "sns.boxplot(Training_set['Error'], color='red')\n",
        "plt.title('Boxplot of Error')\n",
        "plt.show()\n",
        "\n",
        "## The boxplot show us that the error above 2.0, is an outlier."
      ],
      "metadata": {
        "id": "OjYOWG-y9yDM",
        "colab": {
          "base_uri": "https://localhost:8080/",
          "height": 350
        },
        "outputId": "da785e72-adb3-4196-9acd-6f87e3bf1d0e"
      },
      "id": "OjYOWG-y9yDM",
      "execution_count": null,
      "outputs": [
        {
          "output_type": "display_data",
          "data": {
            "text/plain": [
              "<Figure size 576x360 with 1 Axes>"
            ],
            "image/png": "[encoded data removed]"
          },
          "metadata": {
            "needs_background": "light"
          }
        }
      ]
    },
    {
      "cell_type": "markdown",
      "source": [
        "\n",
        "\n",
        "Based on the distribution of Error, we expect that the model will have a low score.\n"
      ],
      "metadata": {
        "id": "1nGSUZd8-YNu"
      },
      "id": "1nGSUZd8-YNu"
    },
    {
      "cell_type": "markdown",
      "source": [
        "Error Analysis of Training Set"
      ],
      "metadata": {
        "id": "UOgObBAGCWxm"
      },
      "id": "UOgObBAGCWxm"
    },
    {
      "cell_type": "code",
      "source": [
        "pred_train = model.predict(X_train)"
      ],
      "metadata": {
        "id": "tqSg2ijr-THF"
      },
      "id": "tqSg2ijr-THF",
      "execution_count": null,
      "outputs": []
    },
    {
      "cell_type": "code",
      "source": [
        "#R2 Score for Training Set\n",
        "\n",
        "r2_train = r2_score(y_train, pred_train)\n",
        "r2_train"
      ],
      "metadata": {
        "id": "jCJ1ifrQCc50",
        "colab": {
          "base_uri": "https://localhost:8080/"
        },
        "outputId": "19c30f87-67ad-4cdf-b57a-fe0772085c23"
      },
      "id": "jCJ1ifrQCc50",
      "execution_count": null,
      "outputs": [
        {
          "output_type": "execute_result",
          "data": {
            "text/plain": [
              "0.4683104755963512"
            ]
          },
          "metadata": {},
          "execution_count": 43
        }
      ]
    },
    {
      "cell_type": "code",
      "source": [
        "## Mean Absolute Error for Training Set\n",
        "\n",
        "MAE_train = mean_absolute_error(y_train, pred_train)\n",
        "MAE_train"
      ],
      "metadata": {
        "id": "9A3V8Za6CewF",
        "colab": {
          "base_uri": "https://localhost:8080/"
        },
        "outputId": "a9ee422d-9aa8-4d63-e0f2-65e2cc74d468"
      },
      "id": "9A3V8Za6CewF",
      "execution_count": null,
      "outputs": [
        {
          "output_type": "execute_result",
          "data": {
            "text/plain": [
              "0.7163121041560331"
            ]
          },
          "metadata": {},
          "execution_count": 44
        }
      ]
    },
    {
      "cell_type": "code",
      "source": [
        "## Mean Squared Error for Training Set\n",
        "\n",
        "MSE_train = mean_squared_error(y_train, pred_train)\n",
        "MSE_train"
      ],
      "metadata": {
        "id": "GIXkgVxHChal",
        "colab": {
          "base_uri": "https://localhost:8080/"
        },
        "outputId": "8fc82b90-c55c-4536-e527-eb2f900788d0"
      },
      "id": "GIXkgVxHChal",
      "execution_count": null,
      "outputs": [
        {
          "output_type": "execute_result",
          "data": {
            "text/plain": [
              "0.9589277582238608"
            ]
          },
          "metadata": {},
          "execution_count": 45
        }
      ]
    },
    {
      "cell_type": "code",
      "source": [
        "## Root Mean Squared Error for Training Set\n",
        "\n",
        "RMSE_train = np.sqrt(MSE_train)\n",
        "RMSE_train"
      ],
      "metadata": {
        "id": "YV2S_eA9CtKE",
        "colab": {
          "base_uri": "https://localhost:8080/"
        },
        "outputId": "e06662b2-7871-4354-9d6e-adb7d9658db2"
      },
      "id": "YV2S_eA9CtKE",
      "execution_count": null,
      "outputs": [
        {
          "output_type": "execute_result",
          "data": {
            "text/plain": [
              "0.9792485681500182"
            ]
          },
          "metadata": {},
          "execution_count": 46
        }
      ]
    },
    {
      "cell_type": "code",
      "source": [
        "EvalScore = {\n",
        "    'Training' : [r2_train, MAE_train, MSE_train, RMSE_train],\n",
        "    'Testing' : [r2_test, MAE_test, MSE_test, RMSE_test]\n",
        "}\n",
        "\n",
        "Evaldf = pd.DataFrame(EvalScore, index=['R Squared', 'MAE', 'MSE', 'RMSE'])\n",
        "Evaldf"
      ],
      "metadata": {
        "id": "URc3v6b5CwXr",
        "colab": {
          "base_uri": "https://localhost:8080/",
          "height": 175
        },
        "outputId": "8e8efbe2-4055-4c3c-8afd-fb2d0e0da515"
      },
      "id": "URc3v6b5CwXr",
      "execution_count": null,
      "outputs": [
        {
          "output_type": "execute_result",
          "data": {
            "text/plain": [
              "           Training   Testing\n",
              "R Squared  0.468310  0.454734\n",
              "MAE        0.716312  0.772817\n",
              "MSE        0.958928  1.146281\n",
              "RMSE       0.979249  1.070645"
            ],
            "text/html": [
              "\n",
              "  <div id=\"df-88956d58-1018-4a23-8000-36fe29961d81\">\n",
              "    <div class=\"colab-df-container\">\n",
              "      <div>\n",
              "<style scoped>\n",
              "    .dataframe tbody tr th:only-of-type {\n",
              "        vertical-align: middle;\n",
              "    }\n",
              "\n",
              "    .dataframe tbody tr th {\n",
              "        vertical-align: top;\n",
              "    }\n",
              "\n",
              "    .dataframe thead th {\n",
              "        text-align: right;\n",
              "    }\n",
              "</style>\n",
              "<table border=\"1\" class=\"dataframe\">\n",
              "  <thead>\n",
              "    <tr style=\"text-align: right;\">\n",
              "      <th></th>\n",
              "      <th>Training</th>\n",
              "      <th>Testing</th>\n",
              "    </tr>\n",
              "  </thead>\n",
              "  <tbody>\n",
              "    <tr>\n",
              "      <th>R Squared</th>\n",
              "      <td>0.468310</td>\n",
              "      <td>0.454734</td>\n",
              "    </tr>\n",
              "    <tr>\n",
              "      <th>MAE</th>\n",
              "      <td>0.716312</td>\n",
              "      <td>0.772817</td>\n",
              "    </tr>\n",
              "    <tr>\n",
              "      <th>MSE</th>\n",
              "      <td>0.958928</td>\n",
              "      <td>1.146281</td>\n",
              "    </tr>\n",
              "    <tr>\n",
              "      <th>RMSE</th>\n",
              "      <td>0.979249</td>\n",
              "      <td>1.070645</td>\n",
              "    </tr>\n",
              "  </tbody>\n",
              "</table>\n",
              "</div>\n",
              "      <button class=\"colab-df-convert\" onclick=\"convertToInteractive('df-88956d58-1018-4a23-8000-36fe29961d81')\"\n",
              "              title=\"Convert this dataframe to an interactive table.\"\n",
              "              style=\"display:none;\">\n",
              "        \n",
              "  <svg xmlns=\"http://www.w3.org/2000/svg\" height=\"24px\"viewBox=\"0 0 24 24\"\n",
              "       width=\"24px\">\n",
              "    <path d=\"M0 0h24v24H0V0z\" fill=\"none\"/>\n",
              "    <path d=\"M18.56 5.44l.94 2.06.94-2.06 2.06-.94-2.06-.94-.94-2.06-.94 2.06-2.06.94zm-11 1L8.5 8.5l.94-2.06 2.06-.94-2.06-.94L8.5 2.5l-.94 2.06-2.06.94zm10 10l.94 2.06.94-2.06 2.06-.94-2.06-.94-.94-2.06-.94 2.06-2.06.94z\"/><path d=\"M17.41 7.96l-1.37-1.37c-.4-.4-.92-.59-1.43-.59-.52 0-1.04.2-1.43.59L10.3 9.45l-7.72 7.72c-.78.78-.78 2.05 0 2.83L4 21.41c.39.39.9.59 1.41.59.51 0 1.02-.2 1.41-.59l7.78-7.78 2.81-2.81c.8-.78.8-2.07 0-2.86zM5.41 20L4 18.59l7.72-7.72 1.47 1.35L5.41 20z\"/>\n",
              "  </svg>\n",
              "      </button>\n",
              "      \n",
              "  <style>\n",
              "    .colab-df-container {\n",
              "      display:flex;\n",
              "      flex-wrap:wrap;\n",
              "      gap: 12px;\n",
              "    }\n",
              "\n",
              "    .colab-df-convert {\n",
              "      background-color: #E8F0FE;\n",
              "      border: none;\n",
              "      border-radius: 50%;\n",
              "      cursor: pointer;\n",
              "      display: none;\n",
              "      fill: #1967D2;\n",
              "      height: 32px;\n",
              "      padding: 0 0 0 0;\n",
              "      width: 32px;\n",
              "    }\n",
              "\n",
              "    .colab-df-convert:hover {\n",
              "      background-color: #E2EBFA;\n",
              "      box-shadow: 0px 1px 2px rgba(60, 64, 67, 0.3), 0px 1px 3px 1px rgba(60, 64, 67, 0.15);\n",
              "      fill: #174EA6;\n",
              "    }\n",
              "\n",
              "    [theme=dark] .colab-df-convert {\n",
              "      background-color: #3B4455;\n",
              "      fill: #D2E3FC;\n",
              "    }\n",
              "\n",
              "    [theme=dark] .colab-df-convert:hover {\n",
              "      background-color: #434B5C;\n",
              "      box-shadow: 0px 1px 3px 1px rgba(0, 0, 0, 0.15);\n",
              "      filter: drop-shadow(0px 1px 2px rgba(0, 0, 0, 0.3));\n",
              "      fill: #FFFFFF;\n",
              "    }\n",
              "  </style>\n",
              "\n",
              "      <script>\n",
              "        const buttonEl =\n",
              "          document.querySelector('#df-88956d58-1018-4a23-8000-36fe29961d81 button.colab-df-convert');\n",
              "        buttonEl.style.display =\n",
              "          google.colab.kernel.accessAllowed ? 'block' : 'none';\n",
              "\n",
              "        async function convertToInteractive(key) {\n",
              "          const element = document.querySelector('#df-88956d58-1018-4a23-8000-36fe29961d81');\n",
              "          const dataTable =\n",
              "            await google.colab.kernel.invokeFunction('convertToInteractive',\n",
              "                                                     [key], {});\n",
              "          if (!dataTable) return;\n",
              "\n",
              "          const docLinkHtml = 'Like what you see? Visit the ' +\n",
              "            '<a target=\"_blank\" href=https://colab.research.google.com/notebooks/data_table.ipynb>data table notebook</a>'\n",
              "            + ' to learn more about interactive tables.';\n",
              "          element.innerHTML = '';\n",
              "          dataTable['output_type'] = 'display_data';\n",
              "          await google.colab.output.renderOutput(dataTable, element);\n",
              "          const docLink = document.createElement('div');\n",
              "          docLink.innerHTML = docLinkHtml;\n",
              "          element.appendChild(docLink);\n",
              "        }\n",
              "      </script>\n",
              "    </div>\n",
              "  </div>\n",
              "  "
            ]
          },
          "metadata": {},
          "execution_count": 47
        }
      ]
    }
  ],
  "metadata": {
    "kernelspec": {
      "display_name": "Python 3 (ipykernel)",
      "language": "python",
      "name": "python3"
    },
    "language_info": {
      "codemirror_mode": {
        "name": "ipython",
        "version": 3
      },
      "file_extension": ".py",
      "mimetype": "text/x-python",
      "name": "python",
      "nbconvert_exporter": "python",
      "pygments_lexer": "ipython3",
      "version": "3.9.12"
    },
    "colab": {
      "name": "ML Group 137 Assignment - 2.ipynb",
      "provenance": [],
      "collapsed_sections": [],
      "include_colab_link": true
    }
  },
  "nbformat": 4,
  "nbformat_minor": 5
}